{
 "cells": [
  {
   "cell_type": "code",
   "execution_count": null,
   "id": "0a59bcfb-789a-4d9a-b379-90c773b139a6",
   "metadata": {},
   "outputs": [],
   "source": [
    "name = \"Write your name here\"\n",
    "date_returned = \"Write the date returned here\""
   ]
  },
  {
   "cell_type": "markdown",
   "id": "ff5b24c5-80d3-4185-a718-86fc3f7e48bd",
   "metadata": {},
   "source": [
    "# Lab 7. Linear transformations\n",
    "Hardware 1 course - Mathematics<br>\n",
    "Information and Communication Technology<br>\n",
    "Metropolia University of Applied Sciences"
   ]
  },
  {
   "cell_type": "markdown",
   "id": "0f87796b-9bef-4bdb-9843-87acda4b4b78",
   "metadata": {},
   "source": [
    "## Setup\n",
    "\n",
    "Read necessary libraries and functions."
   ]
  },
  {
   "cell_type": "code",
   "execution_count": 1,
   "id": "1d5742e3-5811-49b9-8c95-ebd65a94cba5",
   "metadata": {},
   "outputs": [],
   "source": [
    "import numpy as np\n",
    "import matplotlib.pyplot as plt\n",
    "from numpy import sin, cos, dot"
   ]
  },
  {
   "attachments": {},
   "cell_type": "markdown",
   "id": "d1b16600-20ea-405d-896a-d9c88393aae7",
   "metadata": {},
   "source": [
    "## Linear transformations\n",
    "\n",
    "Below is given a code that *generates* (x, y) - coordinates presenting points in 2D. The data coordinates are given in the *augmented vector format*, e.g \n",
    "\n",
    "- The first row `p[0, :]` contains the x-coordinate values\n",
    "- The second row `p[1, :]` contains the y-coordinate values, and\n",
    "- The third row `p[2, :]` have constant values of 1.\n",
    "\n",
    "In the second cell is a function that draws the data points as graphics. \n",
    "\n",
    "Your task is to *rotate*, *move* and *scale* the datapoints using linear transformations and matrix operations."
   ]
  },
  {
   "cell_type": "markdown",
   "id": "3762fd11-26ac-4330-8666-6871606b5388",
   "metadata": {},
   "source": [
    "### Data-points\n",
    "\n",
    "This code creates the original datapoints. All coordinates are packed to variable `p` (points), which is an augmented vector.\n",
    "\n",
    "**NOTE: Do not change this code!**"
   ]
  },
  {
   "cell_type": "code",
   "execution_count": 2,
   "id": "26a2637b-d3e1-4557-a3ae-d14104972141",
   "metadata": {},
   "outputs": [],
   "source": [
    "# Use a parameter to create graphics\n",
    "t = np.linspace(0, 2*np.pi)\n",
    "# Full circle (face)\n",
    "x1 = np.cos(t) + 1.0\n",
    "y1 = np.sin(t) + 1.0\n",
    "# Two smaller full circles (eyes)\n",
    "x2 = np.cos(t)/10 + 0.6\n",
    "y2 = np.sin(t)/10 + 1.5\n",
    "x3 = np.cos(t)/10 + 1.4\n",
    "y3 = np.sin(t)/10 + 1.5\n",
    "# Half circle (mouth)\n",
    "x4 = np.cos(t/2)/2 + 1.0\n",
    "y4 = -np.sin(t/2)/2 + 1.0\n",
    "# Merge to create an augmented vector\n",
    "p = np.zeros((3, 200))\n",
    "p[0, :] = np.hstack((x1, x2, x3, x4))\n",
    "p[1, :] = np.hstack((y1, y2, y3, y4))\n",
    "p[2, :] = np.ones((1, 200))"
   ]
  },
  {
   "attachments": {},
   "cell_type": "markdown",
   "id": "dd4e3cf0-2699-44cf-b953-53ed08dea4ba",
   "metadata": {},
   "source": [
    "### Drawing function\n",
    "\n",
    "Later in your code, you can directly call this function to show the transformed points. For example, if your transformation is described in matrix `A`, you can calculate the new coordinates and draw the transformed figure:\n",
    "\n",
    "```\n",
    "# Transform the original coordinates using matrix multiplication\n",
    "p2 = A @ p\n",
    "# Draw the new coordinate\n",
    "draw(p2)\n",
    "plt.show()\n",
    "```\n",
    "\n",
    "**NOTE:** Do not change this code!"
   ]
  },
  {
   "cell_type": "code",
   "execution_count": 3,
   "id": "936ba1b6-a8b4-45c6-99da-129bcc040e56",
   "metadata": {},
   "outputs": [],
   "source": [
    "def draw(p):\n",
    "    plt.figure(figsize = (7, 7))\n",
    "    plt.plot(p[0, :50], p[1, :50])\n",
    "    plt.fill(p[0, 50:100], p[1, 50:100])\n",
    "    plt.fill(p[0, 100:150], p[1, 100:150])\n",
    "    plt.fill(p[0, 150:200], p[1, 150:200])\n",
    "    plt.axhline(0, color = 'red')\n",
    "    plt.axvline(0, color = 'red')\n",
    "    plt.xlim(-5, 5)\n",
    "    plt.ylim(-5, 5)\n",
    "    plt.grid()\n",
    "    plt.show()"
   ]
  },
  {
   "attachments": {},
   "cell_type": "markdown",
   "id": "c4bde44a-a960-4a29-a535-a29cade148d1",
   "metadata": {},
   "source": [
    "### Original graphics\n",
    "\n",
    "Here is the original points displayed as graphics. Notice, the different colors of the eyes.\n",
    "\n",
    "**NOTE: Do not change this code! Just observe the graphical results.**"
   ]
  },
  {
   "cell_type": "code",
   "execution_count": 4,
   "id": "eeb98c4f-e5c7-4b25-afe4-d8714ca30fad",
   "metadata": {},
   "outputs": [
    {
     "data": {
      "image/png": "[encoded data removed]",
      "text/plain": [
       "<Figure size 504x504 with 1 Axes>"
      ]
     },
     "metadata": {
      "needs_background": "light"
     },
     "output_type": "display_data"
    }
   ],
   "source": [
    "draw(p)\n",
    "plt.show()"
   ]
  },
  {
   "cell_type": "markdown",
   "id": "f35bd02b-26c0-436b-ab88-6b4306a10ae1",
   "metadata": {},
   "source": [
    "---\n",
    "## Problem 1\n",
    "\n",
    "Using the orginal points $p$, rotate the graphics by 30 degrees counterclockwise.\n",
    "\n",
    "Tip: First, create a 3x3 rotation matrix, and then multiply (dot-product) the original points with the rotation matrix to get the new coordinates."
   ]
  },
  {
   "cell_type": "code",
   "execution_count": null,
   "id": "d1289ddc-d72f-4cc9-8070-635d9e24446b",
   "metadata": {},
   "outputs": [],
   "source": [
    "# Your solution to problem 1. Complete the code.\n",
    "\n",
    "Rot = \n",
    "p2 = Rot @ p\n",
    "draw(p2)\n",
    "plt.show()"
   ]
  },
  {
   "cell_type": "code",
   "execution_count": 5,
   "id": "a86ff88d-2def-437c-a951-45eddb4f4f1a",
   "metadata": {},
   "outputs": [
    {
     "data": {
      "image/png": "[encoded data removed]",
      "text/plain": [
       "<Figure size 504x504 with 1 Axes>"
      ]
     },
     "metadata": {
      "needs_background": "light"
     },
     "output_type": "display_data"
    }
   ],
   "source": [
    "# DO NOT RUN OR DELETE THIS CELL until you have got similar results!\n",
    "# Your results should look like this. \n",
    "# If you accidentally run this cell, the graphics disappear.\n",
    "# If that happens, you can download a new copy of the original Lab from the OMA assignment and compare your graphics to that."
   ]
  },
  {
   "cell_type": "markdown",
   "id": "b32357ea-20d8-4299-a43b-beca87523606",
   "metadata": {},
   "source": [
    "---\n",
    "## Problem 2\n",
    "You can get this image, when you reflect the **previous solution** (=problem 1) across the vertical axis (y-axis). \n",
    "\n",
    "Tip: Think, how reflection can be presented using matrix transformations."
   ]
  },
  {
   "cell_type": "code",
   "execution_count": null,
   "id": "b085eac0-0acb-4c5c-92f2-f299a33d8932",
   "metadata": {},
   "outputs": [],
   "source": [
    "# Solution for problem 2\n",
    "\n",
    "\n"
   ]
  },
  {
   "cell_type": "code",
   "execution_count": 6,
   "id": "6f54491b-82a3-4a0d-bee4-7430eb6ba2ca",
   "metadata": {},
   "outputs": [
    {
     "data": {
      "image/png": "[encoded data removed]",
      "text/plain": [
       "<Figure size 504x504 with 1 Axes>"
      ]
     },
     "metadata": {
      "needs_background": "light"
     },
     "output_type": "display_data"
    }
   ],
   "source": [
    "# Results should look like this. Again, DO NOT RUN or DELETE this cell, until you have found the solution!!!"
   ]
  },
  {
   "cell_type": "markdown",
   "id": "5bf0e9a8-5bb0-4b20-9761-4e4da9998af7",
   "metadata": {},
   "source": []
  },
  {
   "cell_type": "markdown",
   "id": "77001844-d912-4a02-bf99-cb3f058db928",
   "metadata": {},
   "source": [
    "---\n",
    "## Problem 3\n",
    "\n",
    "Create a graphics like this.\n",
    "\n",
    "- Tip: Compare the results of problem 2 to this one. What do you observe? How the solution of problem 2 could be transformed to the solution of problem 3?"
   ]
  },
  {
   "cell_type": "code",
   "execution_count": null,
   "id": "d57c4f94-2267-4fee-acde-d7f088a6edd2",
   "metadata": {},
   "outputs": [],
   "source": [
    "## Problem 3 solution\n",
    "\n",
    "\n"
   ]
  },
  {
   "cell_type": "code",
   "execution_count": 7,
   "id": "061b8c26-99b0-4097-b6a5-3e24a3684449",
   "metadata": {},
   "outputs": [
    {
     "data": {
      "image/png": "[encoded data removed]",
      "text/plain": [
       "<Figure size 504x504 with 1 Axes>"
      ]
     },
     "metadata": {
      "needs_background": "light"
     },
     "output_type": "display_data"
    }
   ],
   "source": [
    "# Results should look like this. DO NOT DELETE THIS CELL UNTIL YOU ARE READY WITH YOUR SOLUTION."
   ]
  },
  {
   "cell_type": "markdown",
   "id": "eab10cf6-f4c4-41cc-9476-4f4ce42f342a",
   "metadata": {},
   "source": [
    "---\n",
    "## Problem 4\n",
    "\n",
    "In this problem, you should move the original points 3 units to the left and 1 unit upwards, followed by scaling (enlarging) it by 2 times both in x and y directions."
   ]
  },
  {
   "cell_type": "code",
   "execution_count": null,
   "id": "c333d0c0-eb15-4688-8256-6afc8ee61d30",
   "metadata": {},
   "outputs": [],
   "source": [
    "## Solution for problem 4\n",
    "\n",
    "\n"
   ]
  },
  {
   "cell_type": "code",
   "execution_count": 8,
   "id": "4d4beef3-b139-45af-b6fc-fadc568b24da",
   "metadata": {},
   "outputs": [
    {
     "data": {
      "image/png": "[encoded data removed]",
      "text/plain": [
       "<Figure size 504x504 with 1 Axes>"
      ]
     },
     "metadata": {
      "needs_background": "light"
     },
     "output_type": "display_data"
    }
   ],
   "source": [
    "# Results should look like this. Delete this cell, when your solution is ready."
   ]
  },
  {
   "cell_type": "markdown",
   "id": "5fc08bf8-d5b6-41ae-be22-9b5a0f070f94",
   "metadata": {},
   "source": [
    "## Problem 5\n",
    "\n",
    "Finally, based on what you have learnt\n",
    "- first, think how this image has been created using linear transformations,\n",
    "- then, find the code which transforms the original points to show the graphics as below.\n",
    "\n",
    "Tips: \n",
    "- You may need a sequence of transformations in order to get the right results.\n",
    "- There are several ways to solve this problem. Can you figure out at least two different ones?"
   ]
  },
  {
   "cell_type": "code",
   "execution_count": null,
   "id": "208eb175-eb9f-4574-968c-857d631a7692",
   "metadata": {},
   "outputs": [],
   "source": [
    "## Solution for problem 5\n",
    "\n"
   ]
  },
  {
   "cell_type": "code",
   "execution_count": 22,
   "id": "ddb1e0d3-53a4-4281-a7b1-43d003f1f3e0",
   "metadata": {},
   "outputs": [
    {
     "data": {
      "image/png": "[encoded data removed]",
      "text/plain": [
       "<Figure size 504x504 with 1 Axes>"
      ]
     },
     "metadata": {
      "needs_background": "light"
     },
     "output_type": "display_data"
    }
   ],
   "source": [
    "# The final results should look like this. Remove this cell, when your solution is ready."
   ]
  }
 ],
 "metadata": {
  "kernelspec": {
   "display_name": "Python 3",
   "language": "python",
   "name": "python3"
  },
  "language_info": {
   "codemirror_mode": {
    "name": "ipython",
    "version": 3
   },
   "file_extension": ".py",
   "mimetype": "text/x-python",
   "name": "python",
   "nbconvert_exporter": "python",
   "pygments_lexer": "ipython3",
   "version": "3.11.2"
  },
  "vscode": {
   "interpreter": {
    "hash": "7d1cca3e28dfb4be7cc953b391958c600633deca3281a1c876f383e860a08ea6"
   }
  }
 },
 "nbformat": 4,
 "nbformat_minor": 5
}
