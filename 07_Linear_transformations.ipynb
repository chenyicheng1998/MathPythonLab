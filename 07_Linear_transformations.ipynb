{
 "cells": [
  {
   "attachments": {},
   "cell_type": "markdown",
   "id": "3c6d2166-64f6-453f-a90b-3e5a642c35b1",
   "metadata": {
    "slideshow": {
     "slide_type": "slide"
    },
    "tags": []
   },
   "source": [
    "# 07. Matrix operations\n",
    "Hardware 1, Python Labs for Mathematics and Physics <br>\n",
    "2022-2025, Sakari Lukkarinen<br>\n",
    "Information and Communication Technology<br>\n",
    "[Metropolia University of Applied Sciences](https://www.metropolia.fi/en)\n",
    "\n",
    "## Background and aim\n",
    "\n",
    "See the Timo Salin's Mathematics Lecture Notes, Ch 8. Matrices.\n",
    "\n",
    "The aim of these exercises is to learn to use matrix operations to make linear transformations of 2d objects, like points or lines."
   ]
  },
  {
   "cell_type": "markdown",
   "id": "21bba6ed-778e-4255-97b0-0d24cd9e8fb4",
   "metadata": {
    "slideshow": {
     "slide_type": "slide"
    },
    "tags": []
   },
   "source": [
    "## Setup"
   ]
  },
  {
   "cell_type": "code",
   "execution_count": 1,
   "id": "3e7b529b-5134-4808-86e6-22c6bb5e58be",
   "metadata": {},
   "outputs": [],
   "source": [
    "import numpy as np\n",
    "import matplotlib.pyplot as plt\n",
    "from numpy import sin, cos, dot"
   ]
  },
  {
   "cell_type": "markdown",
   "id": "1741e60b-c697-498b-8721-a36cb14df517",
   "metadata": {
    "slideshow": {
     "slide_type": "slide"
    },
    "tags": []
   },
   "source": [
    "## Linear transformations\n",
    "\n",
    "Linear transformations, like rotations, translations, and scalings, of 2D or 3D coordinates can be performed using *augmented vectors* and matrix operations. Here are examples for 2D."
   ]
  },
  {
   "cell_type": "markdown",
   "id": "442be15d-91eb-4205-bc39-7562c8fafc64",
   "metadata": {
    "slideshow": {
     "slide_type": "slide"
    },
    "tags": []
   },
   "source": [
    "### Rotating 2D vector by the given angle\n",
    "\n",
    "Rotate the coordinate $(2, 0)$ $45$ degrees anticlockwise. \n",
    "\n",
    "We use *augmented vector* representation $p = \\begin{pmatrix} x \\\\ y \\\\  1 \\end{pmatrix}$ and the rotation is expressed as 3x3 matrix $Rot(\\theta) = \\begin{pmatrix} cos \\; \\theta & -sin \\; \\theta & 0 \\\\ sin \\; \\theta & cos \\; \\theta & 0 \\\\ 0 & 0 & 1 \\end{pmatrix}$."
   ]
  },
  {
   "cell_type": "code",
   "execution_count": 2,
   "id": "0b15e2af-615e-4204-b484-24cbe0309a2e",
   "metadata": {
    "slideshow": {
     "slide_type": "subslide"
    },
    "tags": []
   },
   "outputs": [
    {
     "name": "stdout",
     "output_type": "stream",
     "text": [
      "x, y    = 2, 0\n",
      "x1, y1  = 1.4142135623730951, 1.4142135623730951\n"
     ]
    }
   ],
   "source": [
    "# Original coordinates\n",
    "x, y = 2, 0\n",
    "\n",
    "# Augmented vector\n",
    "p = np.array([[x], [y], [1]])\n",
    "\n",
    "# Rotation angle in radians\n",
    "theta = np.deg2rad(45)\n",
    "\n",
    "# Rotation matrix\n",
    "Rot = np.array([[np.cos(theta), -np.sin(theta), 0], \n",
    "                [np.sin(theta), np.cos(theta),  0],\n",
    "                [0,             0,              1]])\n",
    "\n",
    "# Rotate the augmented vector\n",
    "p2 = np.dot(Rot, p)\n",
    "\n",
    "# Get the the coordinates\n",
    "x1 = p2[0, 0]\n",
    "y1 = p2[1, 0]\n",
    "\n",
    "# Print out the results\n",
    "print(f'x, y    = {x}, {y}')\n",
    "print(f'x1, y1  = {x1}, {y1}')"
   ]
  },
  {
   "cell_type": "markdown",
   "id": "3370a117-66c8-4114-aa75-3d1ab08e4d56",
   "metadata": {
    "slideshow": {
     "slide_type": "subslide"
    },
    "tags": []
   },
   "source": [
    "Print only 4 decimals"
   ]
  },
  {
   "cell_type": "code",
   "execution_count": 3,
   "id": "8f073be2-4406-4035-95fd-233cc109b69e",
   "metadata": {},
   "outputs": [
    {
     "name": "stdout",
     "output_type": "stream",
     "text": [
      "x, y    = 2.0000, 0.0000\n",
      "x1, y1  = 1.4142, 1.4142\n"
     ]
    }
   ],
   "source": [
    "print(f'x, y    = {x:.4f}, {y:.4f}')\n",
    "print(f'x1, y1  = {x1:.4f}, {y1:.4f}')"
   ]
  },
  {
   "cell_type": "markdown",
   "id": "5188253c-6449-4aa6-97e1-37b10211e579",
   "metadata": {
    "slideshow": {
     "slide_type": "subslide"
    },
    "tags": []
   },
   "source": [
    "Let's draw the points as vectors in 2D figure."
   ]
  },
  {
   "cell_type": "code",
   "execution_count": 4,
   "id": "7b7d2db2-6f01-49f9-bffc-5b2fbc4d9cd6",
   "metadata": {},
   "outputs": [
    {
     "data": {
      "image/png": "[encoded data removed]",
      "text/plain": [
       "<Figure size 500x500 with 1 Axes>"
      ]
     },
     "metadata": {},
     "output_type": "display_data"
    }
   ],
   "source": [
    "# Figure\n",
    "plt.figure(figsize = (5, 5))\n",
    "\n",
    "# First point, x = p[0], y = p[1]\n",
    "plt.quiver(0, 0, x, y, angles='xy', \n",
    "           scale_units='xy', scale=1, color = 'b')\n",
    "# Second point x1 = p2[0, 0], y1 = p2[1, 0]\n",
    "plt.quiver(0, 0, x1, y1, angles='xy', \n",
    "           scale_units='xy', scale=1, color = 'm')\n",
    "\n",
    "plt.xlim(-3, 3)\n",
    "plt.ylim(-3, 3)\n",
    "plt.grid()\n",
    "plt.legend(['original', 'rotated'])\n",
    "plt.show()"
   ]
  },
  {
   "cell_type": "markdown",
   "id": "5925ce52-618c-4864-b21d-95e96f5d43dc",
   "metadata": {
    "slideshow": {
     "slide_type": "slide"
    },
    "tags": []
   },
   "source": [
    "Second example, rotate a point $(-1, 1)$ $120$ degrees clockwise."
   ]
  },
  {
   "cell_type": "code",
   "execution_count": 5,
   "id": "d85f434a-d8fb-4415-9200-9c85707ddb18",
   "metadata": {},
   "outputs": [
    {
     "name": "stdout",
     "output_type": "stream",
     "text": [
      "x, y    = -1.0000, +1.0000\n",
      "x1, y1  = +1.3660, +0.3660\n"
     ]
    }
   ],
   "source": [
    "x, y = -1, 1\n",
    "p = np.array([[x],[y], [1]])\n",
    "theta = np.deg2rad(-120)\n",
    "Rot = np.array([[np.cos(theta), -np.sin(theta), 0],\n",
    "                [np.sin(theta), np.cos(theta),  0],\n",
    "                [0,             0,              1]])\n",
    "p2 = np.dot(Rot, p)\n",
    "x1 = p2[0, 0]\n",
    "y1 = p2[1, 0]\n",
    "print(f'x, y    = {x:+.4f}, {y:+.4f}')\n",
    "print(f'x1, y1  = {x1:+.4f}, {y1:+.4f}')"
   ]
  },
  {
   "cell_type": "markdown",
   "id": "940ad7dc-ad29-4fa5-9439-bcb2205a3d11",
   "metadata": {
    "slideshow": {
     "slide_type": "subslide"
    },
    "tags": []
   },
   "source": [
    "Let's make a graphical illustration also for this example."
   ]
  },
  {
   "cell_type": "code",
   "execution_count": 6,
   "id": "1800aeb0-e35d-424c-ab19-76474119a6bc",
   "metadata": {},
   "outputs": [
    {
     "data": {
      "image/png": "[encoded data removed]",
      "text/plain": [
       "<Figure size 500x500 with 1 Axes>"
      ]
     },
     "metadata": {},
     "output_type": "display_data"
    }
   ],
   "source": [
    "plt.figure(figsize = (5, 5))\n",
    "plt.quiver(0, 0, x, y, angles='xy', scale_units='xy', scale=1, color = 'b')\n",
    "plt.quiver(0, 0, x1, y1, angles='xy', scale_units='xy', scale=1, color = 'm')\n",
    "plt.xlim(-3, 3)\n",
    "plt.ylim(-3, 3)\n",
    "plt.grid()\n",
    "plt.legend(['orginal', 'rotated'])\n",
    "plt.show()"
   ]
  },
  {
   "cell_type": "markdown",
   "id": "d7a301ef-f216-4c5d-8ced-88c5b5ac4fdc",
   "metadata": {
    "slideshow": {
     "slide_type": "slide"
    },
    "tags": []
   },
   "source": [
    "## Translations and scalings\n",
    "\n",
    "### Translation\n",
    "\n",
    "Translation by a vector can be expressed as a matrix\n",
    "\n",
    "$Trans(a, b) = \\begin{pmatrix} 1 & 0 & a \\\\ 0 & 1 & b \\\\ 0 & 0 & 1 \\end{pmatrix}$. \n",
    "\n",
    "Then the translation is calculated as \n",
    "\n",
    "$\\begin{pmatrix} 1 & 0 & a \\\\ 0 & 1 & b \\\\ 0 & 0 & 1 \\end{pmatrix} \\begin{pmatrix} x \\\\ y \\\\ 1 \\end{pmatrix} = \\begin{pmatrix} x+a \\\\ y+b \\\\ 1 \\end{pmatrix}$"
   ]
  },
  {
   "cell_type": "markdown",
   "id": "0f909b73-9c64-4b6f-ab9f-70f65c1980f4",
   "metadata": {
    "slideshow": {
     "slide_type": "slide"
    },
    "tags": []
   },
   "source": [
    "Example, let's translate the coordinates $(2, 3)$ to the right by 2."
   ]
  },
  {
   "cell_type": "code",
   "execution_count": 7,
   "id": "8d119c4b-b56d-44f4-8e5b-fef49aa3d7e5",
   "metadata": {},
   "outputs": [
    {
     "name": "stdout",
     "output_type": "stream",
     "text": [
      "Trans = \n",
      " [[1 0 2]\n",
      " [0 1 0]\n",
      " [0 0 1]]\n",
      "x,  y   = +2.0000, +3.0000\n",
      "x1, y1  = +4.0000, +3.0000\n"
     ]
    }
   ],
   "source": [
    "# Original coordinates\n",
    "x, y = 2, 3\n",
    "p = np.array([[x], [y], [1]])\n",
    "\n",
    "# Translation matrix\n",
    "a = 2\n",
    "b = 0\n",
    "Trans = np.array([[1, 0, a], [0, 1, b], [0, 0, 1]])\n",
    "\n",
    "# Calculate new coordinates\n",
    "p2 = np.dot(Trans, p)\n",
    "x1 = p2[0, 0]\n",
    "y1 = p2[1, 0]\n",
    "\n",
    "print('Trans = \\n', Trans)\n",
    "print(f'x,  y   = {x:+.4f}, {y:+.4f}')\n",
    "print(f'x1, y1  = {x1:+.4f}, {y1:+.4f}')"
   ]
  },
  {
   "cell_type": "markdown",
   "id": "a1c55832-c95b-485f-b4ef-5adf8641d3c8",
   "metadata": {
    "slideshow": {
     "slide_type": "slide"
    },
    "tags": []
   },
   "source": [
    "### Scaling\n",
    "\n",
    "Similarly scaling can be expressed by a matrix\n",
    "\n",
    "$Scale(a, b) = \\begin{pmatrix} a & 0 & 0 \\\\ 0 & b & 0 \\\\ 0 & 0 & 1 \\end{pmatrix}$. \n",
    "\n",
    "Then the scaling is calculated by\n",
    "\n",
    "$\\begin{pmatrix} a & 0 & 0 \\\\ 0 & b & 0 \\\\ 0 & 0 & 1 \\end{pmatrix} \\begin{pmatrix} x \\\\ y \\\\ 1 \\end{pmatrix} = \\begin{pmatrix} ax \\\\ by \\\\ 1 \\end{pmatrix}$"
   ]
  },
  {
   "cell_type": "markdown",
   "id": "54dcdc4c-4a25-472a-a699-75cb77882021",
   "metadata": {
    "slideshow": {
     "slide_type": "slide"
    },
    "tags": []
   },
   "source": [
    "Example, multiply both coordinates by 3."
   ]
  },
  {
   "cell_type": "code",
   "execution_count": 8,
   "id": "2b43163e-67f5-48cc-b14d-ff251c681f88",
   "metadata": {},
   "outputs": [
    {
     "name": "stdout",
     "output_type": "stream",
     "text": [
      "A =\n",
      " [[3 0 0]\n",
      " [0 3 0]\n",
      " [0 0 1]]\n",
      "x,  y   = +2.0000, +3.0000\n",
      "x1, y1  = +6.0000, +9.0000\n"
     ]
    }
   ],
   "source": [
    "x, y = 2, 3\n",
    "p = np.array([[x], [y], [1]])\n",
    "a = 3\n",
    "b = 3\n",
    "A = np.array([[a, 0, 0], [0, b, 0], [0, 0, 1]])\n",
    "p2 = np.dot(A, p)\n",
    "x1 = p2[0, 0]\n",
    "y1 = p2[1, 0]\n",
    "\n",
    "print('A =\\n', A)\n",
    "print(f'x,  y   = {x:+.4f}, {y:+.4f}')\n",
    "print(f'x1, y1  = {x1:+.4f}, {y1:+.4f}')"
   ]
  },
  {
   "cell_type": "markdown",
   "id": "305c2bfe-b6ce-4e9b-8d17-ea2b42ee591f",
   "metadata": {
    "slideshow": {
     "slide_type": "slide"
    },
    "tags": []
   },
   "source": [
    "### Learn more\n",
    "\n",
    "For more examples, see Timo Salin's lecture notes, pages 76-79."
   ]
  }
 ],
 "metadata": {
  "kernelspec": {
   "display_name": "Python 3 (ipykernel)",
   "language": "python",
   "name": "python3"
  },
  "language_info": {
   "codemirror_mode": {
    "name": "ipython",
    "version": 3
   },
   "file_extension": ".py",
   "mimetype": "text/x-python",
   "name": "python",
   "nbconvert_exporter": "python",
   "pygments_lexer": "ipython3",
   "version": "3.11.2"
  },
  "vscode": {
   "interpreter": {
    "hash": "7d1cca3e28dfb4be7cc953b391958c600633deca3281a1c876f383e860a08ea6"
   }
  }
 },
 "nbformat": 4,
 "nbformat_minor": 5
}
