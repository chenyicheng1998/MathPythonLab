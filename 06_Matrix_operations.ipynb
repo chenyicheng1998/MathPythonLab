{
 "cells": [
  {
   "attachments": {},
   "cell_type": "markdown",
   "id": "3c6d2166-64f6-453f-a90b-3e5a642c35b1",
   "metadata": {
    "slideshow": {
     "slide_type": "slide"
    },
    "tags": []
   },
   "source": [
    "# 06. Matrix operations\n",
    "Hardware 1, Python Labs for Mathematics and Physics<br>\n",
    "2022-2025, Sakari Lukkarinen<br>\n",
    "Information and Communication Technology<br>\n",
    "[Metropolia University of Applied Sciences](https://www.metropolia.fi/en)\n",
    "\n",
    "## Background and aim\n",
    "\n",
    "See the Timo Salin's Mathematics Lecture Notes, Ch 8. Matrices.\n",
    "\n",
    "The aim of these exercises is to learn to solve matrix problems with Python's numpy library."
   ]
  },
  {
   "cell_type": "markdown",
   "id": "21bba6ed-778e-4255-97b0-0d24cd9e8fb4",
   "metadata": {
    "slideshow": {
     "slide_type": "slide"
    },
    "tags": []
   },
   "source": [
    "## Setup\n",
    "\n",
    "We use `numpy` and `matplotlib` libraries. \n",
    "\n",
    "In addition, we need \n",
    "- linear algebra functions from `numpy.linalg` sublibrary\n",
    "- numpy's trigonometric functions, and\n",
    "- numpy's matrix dot production function"
   ]
  },
  {
   "cell_type": "code",
   "execution_count": 2,
   "id": "3e7b529b-5134-4808-86e6-22c6bb5e58be",
   "metadata": {},
   "outputs": [],
   "source": [
    "import numpy as np\n",
    "import matplotlib.pyplot as plt\n",
    "from numpy import dot\n",
    "from numpy.linalg import det, inv, solve"
   ]
  },
  {
   "cell_type": "markdown",
   "id": "f2ef5b8d-29fd-4cbb-ae7f-acd713c3b45a",
   "metadata": {
    "slideshow": {
     "slide_type": "slide"
    },
    "tags": []
   },
   "source": [
    "## 1. Matrix operations with numpy arrays\n",
    "\n",
    "Let's create two dimensional numpy arrays. We need to give a nested list as an input for `numpy.array`. See: [numpy.array, Examples](https://numpy.org/doc/stable/reference/generated/numpy.array.html)."
   ]
  },
  {
   "cell_type": "code",
   "execution_count": 3,
   "id": "ac550097-5b96-468f-99a7-31ab25aa026b",
   "metadata": {},
   "outputs": [
    {
     "name": "stdout",
     "output_type": "stream",
     "text": [
      "A =\n",
      " [[ 1  0]\n",
      " [-1  4]]\n",
      "B =\n",
      " [[0 5]\n",
      " [7 1]]\n",
      "A.shape = (2, 2)\n",
      "B.shape = (2, 2)\n"
     ]
    }
   ],
   "source": [
    "# A and B are two dimensional arrays. Notice the double [] and commas\n",
    "A = np.array([[1, 0], [-1, 4]]) \n",
    "B = np.array([[0, 5], [7, 1]])\n",
    "\n",
    "print('A =\\n', A)\n",
    "print('B =\\n', B)\n",
    "\n",
    "print('A.shape =', A.shape)\n",
    "print('B.shape =', B.shape)"
   ]
  },
  {
   "cell_type": "markdown",
   "id": "fc82a93b-c68d-4abf-b9a7-5c23efec9d75",
   "metadata": {
    "slideshow": {
     "slide_type": "slide"
    },
    "tags": []
   },
   "source": [
    "### 1.1. Matrix addition\n",
    "\n",
    "Matrix addition can be calculated by adding the matrices together."
   ]
  },
  {
   "cell_type": "code",
   "execution_count": 4,
   "id": "294e905f-9dbc-46e6-bd1b-9354ac039543",
   "metadata": {},
   "outputs": [
    {
     "name": "stdout",
     "output_type": "stream",
     "text": [
      "C =\n",
      " [[1 5]\n",
      " [6 5]]\n"
     ]
    }
   ],
   "source": [
    "C = A + B\n",
    "print('C =\\n', C)"
   ]
  },
  {
   "cell_type": "markdown",
   "id": "9844b036-7e0d-4047-944a-1c7816d942a9",
   "metadata": {
    "slideshow": {
     "slide_type": "slide"
    },
    "tags": []
   },
   "source": [
    "### 1.2. Matrix subtraction\n",
    "\n",
    "Similarly as matrix addition, subtraction can be calculate by subtracting the matrices."
   ]
  },
  {
   "cell_type": "code",
   "execution_count": 5,
   "id": "fcba6400-ac1d-43a9-bf13-2a93be6a5b04",
   "metadata": {},
   "outputs": [
    {
     "name": "stdout",
     "output_type": "stream",
     "text": [
      "D =\n",
      " [[ 1 -5]\n",
      " [-8  3]]\n"
     ]
    }
   ],
   "source": [
    "D = A - B\n",
    "print('D =\\n', D)"
   ]
  },
  {
   "cell_type": "markdown",
   "id": "aa1a3d48-0f94-4c26-8f4c-a7333199b6fc",
   "metadata": {
    "slideshow": {
     "slide_type": "slide"
    },
    "tags": []
   },
   "source": [
    "### 1.3. Scalar multiplication\n",
    "\n",
    "Arrays can be directly multiplied by a scalar."
   ]
  },
  {
   "cell_type": "code",
   "execution_count": 6,
   "id": "6fecbc37-5a00-47f3-ac90-16465b6011fd",
   "metadata": {},
   "outputs": [
    {
     "name": "stdout",
     "output_type": "stream",
     "text": [
      "E =\n",
      " [[ 2  0]\n",
      " [-2  8]]\n"
     ]
    }
   ],
   "source": [
    "E = 2*A\n",
    "print('E =\\n', E)"
   ]
  },
  {
   "cell_type": "markdown",
   "id": "011da35a-c44c-4e68-bab6-0995544fa4f9",
   "metadata": {
    "slideshow": {
     "slide_type": "slide"
    },
    "tags": []
   },
   "source": [
    "### 1.4. Matrix (dot) product\n",
    "\n",
    "For matrix product we use dot product. The inner dimensions of the arrays needs to be same.\n",
    "\n",
    "**NOTE:** Introduced in NumPy 1.10.0, the @ operator is preferable to other methods when computing the matrix product between 2d arrays. The numpy.matmul function implements the @ operator. "
   ]
  },
  {
   "cell_type": "code",
   "execution_count": 6,
   "id": "21aefacb-d436-4531-b705-c642009a753f",
   "metadata": {},
   "outputs": [
    {
     "name": "stdout",
     "output_type": "stream",
     "text": [
      "A = \n",
      " [[ 1  0]\n",
      " [-1  4]\n",
      " [ 2  5]]\n",
      "B = \n",
      " [[1 4]\n",
      " [0 2]]\n",
      "A.shape = (3, 2)\n",
      "B.shape = (2, 2)\n"
     ]
    }
   ],
   "source": [
    "A = np.array([[1, 0], [-1, 4], [2, 5]])\n",
    "B = np.array([[1, 4], [0, 2]])\n",
    "\n",
    "print('A = \\n', A)\n",
    "print('B = \\n', B)\n",
    "print('A.shape =', A.shape)\n",
    "print('B.shape =', B.shape)"
   ]
  },
  {
   "cell_type": "code",
   "execution_count": 7,
   "id": "2e74b59f-e460-4994-a65e-b603183068f4",
   "metadata": {
    "slideshow": {
     "slide_type": "subslide"
    },
    "tags": []
   },
   "outputs": [
    {
     "name": "stdout",
     "output_type": "stream",
     "text": [
      "C = AB = \n",
      " [[ 0  5]\n",
      " [28 -1]]\n"
     ]
    }
   ],
   "source": [
    "C = np.dot(A, B)\n",
    "print('C = AB = \\n', C)"
   ]
  },
  {
   "cell_type": "code",
   "execution_count": 8,
   "id": "e278008a-8abc-41f8-92e2-905c30001d6e",
   "metadata": {},
   "outputs": [
    {
     "name": "stdout",
     "output_type": "stream",
     "text": [
      "C2 = \n",
      " [[ 0  5]\n",
      " [28 -1]]\n"
     ]
    }
   ],
   "source": [
    "# Preferred way to calculate dot-product between 2d matrices\n",
    "C2 = A @ B\n",
    "print('C2 = \\n', C2)"
   ]
  },
  {
   "cell_type": "code",
   "execution_count": 9,
   "id": "e4c54dd0-4e7d-4577-902c-cebd319af4e1",
   "metadata": {},
   "outputs": [
    {
     "name": "stdout",
     "output_type": "stream",
     "text": [
      "C.shape = (2, 2)\n"
     ]
    }
   ],
   "source": [
    "print('C.shape =', C.shape)"
   ]
  },
  {
   "cell_type": "markdown",
   "id": "fe4f12bb-8bda-430c-b642-c2924fcd9d38",
   "metadata": {
    "slideshow": {
     "slide_type": "slide"
    },
    "tags": []
   },
   "source": [
    "A second example. The first array has shape 2x3 and the second array 3x1."
   ]
  },
  {
   "cell_type": "code",
   "execution_count": 10,
   "id": "f28b6268-163a-4ef2-8fb6-b59a794fc3f2",
   "metadata": {},
   "outputs": [
    {
     "name": "stdout",
     "output_type": "stream",
     "text": [
      "D = \n",
      " [[1 2 3]\n",
      " [4 5 6]]\n",
      "E = \n",
      " [[1]\n",
      " [2]\n",
      " [4]]\n",
      "F = DE = \n",
      " [[17]\n",
      " [38]]\n",
      "D.shape = (2, 3)\n",
      "E.shape = (3, 1)\n",
      "F.shape = (2, 1)\n"
     ]
    }
   ],
   "source": [
    "D = np.array([[1, 2, 3], [4, 5, 6]])\n",
    "E = np.array([[1], [2], [4]])\n",
    "F = D @ E\n",
    "\n",
    "print('D = \\n', D)\n",
    "print('E = \\n', E)\n",
    "print('F = DE = \\n', F)\n",
    "print('D.shape =', D.shape)\n",
    "print('E.shape =', E.shape)\n",
    "print('F.shape =', F.shape)"
   ]
  },
  {
   "cell_type": "markdown",
   "id": "e77f386e-665e-460e-b4ad-0742b5880769",
   "metadata": {
    "slideshow": {
     "slide_type": "slide"
    },
    "tags": []
   },
   "source": [
    "### 1.5. Practice"
   ]
  },
  {
   "cell_type": "markdown",
   "id": "01c1b5a0-ea90-49f1-b7af-a5085cb26ca8",
   "metadata": {},
   "source": [
    "Find $A \\cdot B$, when $A = \\begin{pmatrix} 1 & 2 \\\\ 3 & 4 \\\\ -1 & 0 \\end{pmatrix}$\n",
    "and $B = \\begin{pmatrix} -1 \\\\ 2 \\\\ -1 \\end{pmatrix}$."
   ]
  },
  {
   "cell_type": "code",
   "execution_count": null,
   "id": "3a382d65-ced9-47ac-9336-872e86152760",
   "metadata": {},
   "outputs": [],
   "source": []
  },
  {
   "cell_type": "markdown",
   "id": "87fc106d-6a7e-4cbe-a8ae-e768f1c5ec40",
   "metadata": {},
   "source": [
    "Find $C \\cdot D$, when $C = \\begin{pmatrix} 1 & 1 & 1 \\\\ 2 & 1 & 0 \\\\ 3 & -1 & 2 \\end{pmatrix}$\n",
    "and $D = \\begin{pmatrix} 0 & 3 & 1 \\\\ 4 & -1 & 0 \\\\ 2 & 2 & 1 \\end{pmatrix}$."
   ]
  },
  {
   "cell_type": "code",
   "execution_count": null,
   "id": "f9466e02-d4ae-4a34-8ee4-81e5f5a0dd71",
   "metadata": {},
   "outputs": [],
   "source": []
  },
  {
   "cell_type": "markdown",
   "id": "1f62839c-c2a8-40a2-a738-6717a96a5765",
   "metadata": {
    "slideshow": {
     "slide_type": "slide"
    },
    "tags": []
   },
   "source": [
    "## 2. Linear algebra\n",
    "\n",
    "`numpy.linalg` sublibrary has functions to:\n",
    "- compute the inverse of a matrix [`numpy.linlag.inv`](https://numpy.org/doc/stable/reference/generated/numpy.linalg.inv.html#numpy.linalg.inv)\n",
    "- compute the determintant of an array [`numpy.linalg.det`](https://numpy.org/doc/stable/reference/generated/numpy.linalg.det.html#numpy.linalg.det)\n",
    "- solve a linear matrix equation, or system of linear scalar equation [`numpy.linalg.solve`](https://numpy.org/doc/stable/reference/generated/numpy.linalg.solve.html#numpy.linalg.solve)"
   ]
  },
  {
   "cell_type": "markdown",
   "id": "2eb944cc-494e-4cd3-9baa-09df9dae1ef1",
   "metadata": {
    "slideshow": {
     "slide_type": "slide"
    },
    "tags": []
   },
   "source": [
    "### 2.1. Computing the inverse of matrix"
   ]
  },
  {
   "cell_type": "code",
   "execution_count": 11,
   "id": "4b3298da-4a3e-474c-a7ef-49f1a89d5b39",
   "metadata": {},
   "outputs": [
    {
     "name": "stdout",
     "output_type": "stream",
     "text": [
      "A = \n",
      " [[1. 2.]\n",
      " [3. 4.]]\n",
      "Ainv = \n",
      " [[-2.   1. ]\n",
      " [ 1.5 -0.5]]\n"
     ]
    }
   ],
   "source": [
    "A = np.array([[1., 2.], [3., 4.]])\n",
    "Ainv = np.linalg.inv(A)\n",
    "\n",
    "print('A = \\n', A)\n",
    "print('Ainv = \\n', Ainv)"
   ]
  },
  {
   "cell_type": "markdown",
   "id": "edde6a16-e88f-461d-baf6-35121ee5ddc3",
   "metadata": {
    "slideshow": {
     "slide_type": "slide"
    },
    "tags": []
   },
   "source": [
    "### 2.2 Computing the determinant of an array"
   ]
  },
  {
   "cell_type": "code",
   "execution_count": 12,
   "id": "21b11873-4214-48c3-ad42-4dceaa51c0cd",
   "metadata": {},
   "outputs": [
    {
     "name": "stdout",
     "output_type": "stream",
     "text": [
      "A = \n",
      " [[1 2]\n",
      " [3 4]]\n",
      "det(A) = -2.0000000000000004\n"
     ]
    }
   ],
   "source": [
    "A = np.array([[1, 2], [3, 4]])\n",
    "detA = np.linalg.det(A)\n",
    "\n",
    "print('A = \\n', A)\n",
    "print('det(A) =', detA)"
   ]
  },
  {
   "cell_type": "markdown",
   "id": "e0335473-6a1e-4f06-bc4c-0dc1e570b2f3",
   "metadata": {
    "slideshow": {
     "slide_type": "slide"
    },
    "tags": []
   },
   "source": [
    "### 2.3. Solving a system of equations\n",
    "\n",
    "Solve the system of equations\n",
    "\n",
    "\\begin{align*} \n",
    "x_0 + 2x_1 &=  1 \\\\ \n",
    "3x_0 + 5x_1 &=  2\n",
    "\\end{align*}\n"
   ]
  },
  {
   "cell_type": "code",
   "execution_count": 13,
   "id": "58aa80a2-b3b9-4d31-973e-69d99144f842",
   "metadata": {},
   "outputs": [
    {
     "name": "stdout",
     "output_type": "stream",
     "text": [
      "x = [-1.  1.]\n"
     ]
    }
   ],
   "source": [
    "A = np.array([[1, 2], \n",
    "              [3, 5]])\n",
    "b = np.array([1, 2])\n",
    "x = np.linalg.solve(A, b)\n",
    "\n",
    "print('x =', x)"
   ]
  },
  {
   "cell_type": "markdown",
   "id": "801934ec-8c61-48a0-b5d6-7abce234bf07",
   "metadata": {
    "slideshow": {
     "slide_type": "slide"
    },
    "tags": []
   },
   "source": [
    "---\n",
    "## About floating point numbers\n",
    "\n",
    "In programming languages real numbers are presented as floating point numbers. For exampe, $1234000$ can be presented $1.234\\times 10^6$, or written shortly $1.234e6$.\n",
    "\n",
    "See: [Floating-point arithmetic, Wikipedia](https://en.wikipedia.org/wiki/Floating-point_arithmetic)"
   ]
  },
  {
   "cell_type": "markdown",
   "id": "7a8c4c59-d2e5-4ef8-8c02-ac4a0fa02568",
   "metadata": {},
   "source": [
    "Example, if you got results like"
   ]
  },
  {
   "cell_type": "code",
   "execution_count": 14,
   "id": "c3057e8b-b95b-47da-a611-70740d13cb40",
   "metadata": {},
   "outputs": [
    {
     "name": "stdout",
     "output_type": "stream",
     "text": [
      "-8.612335e-15\n"
     ]
    }
   ],
   "source": [
    "detA = -8.612335e-15\n",
    "print(detA)"
   ]
  },
  {
   "cell_type": "markdown",
   "id": "43bac4e1-75a7-4be6-bee4-5dfa14227f22",
   "metadata": {},
   "source": [
    "This is actually very close to zero"
   ]
  },
  {
   "cell_type": "code",
   "execution_count": 15,
   "id": "67017948-ed30-48e4-b207-4d0e142bdf92",
   "metadata": {},
   "outputs": [
    {
     "name": "stdout",
     "output_type": "stream",
     "text": [
      "-0.00000000000000861233499999999995\n"
     ]
    }
   ],
   "source": [
    "# Let's use format string f\"{variable:format}\"\n",
    "print(f'{detA:.32f}')"
   ]
  },
  {
   "cell_type": "markdown",
   "id": "8e880775-2ade-4b01-b1fe-e6bba0172862",
   "metadata": {},
   "source": [
    "If we round the value to 8 decimals, we can see it more clearly"
   ]
  },
  {
   "cell_type": "code",
   "execution_count": 16,
   "id": "3f14af12-4926-4abc-a376-e833aa4266a9",
   "metadata": {},
   "outputs": [
    {
     "name": "stdout",
     "output_type": "stream",
     "text": [
      "-0.0\n"
     ]
    }
   ],
   "source": [
    "print(np.round(detA, 8))"
   ]
  },
  {
   "cell_type": "markdown",
   "id": "0a3ba7ab-1bdb-40d3-9e45-9bfeb7d31c71",
   "metadata": {},
   "source": [
    "Read more: [f-strings a new and improved way to format strings in python](https://realpython.com/python-f-strings/#f-strings-a-new-and-improved-way-to-format-strings-in-python)"
   ]
  },
  {
   "cell_type": "markdown",
   "id": "c383cbf4-13bc-4409-b520-7214258774cd",
   "metadata": {
    "slideshow": {
     "slide_type": "slide"
    },
    "tags": []
   },
   "source": [
    "### What is the smallest number that differs from 1.0?\n",
    "\n",
    "Sometimes you might get very small or very large values as a result. Always remember check the mantissa (e-part) to get an idea of the scale of the value. \n",
    "\n",
    "However, there is a limit for how small differences between real values we can present with floating point numbers. The smallest defference between 1.0 and the next smallest represtanble float number larger than 1.0 is usually marked with variable `eps`. For example, for 64-bit binary floats in the IEEE-754 standard, eps = 2**-52, approximately 2.22e-16.\n",
    "\n",
    "Source: [Attribute: eps, numpy.finfo](https://numpy.org/doc/stable/reference/generated/numpy.finfo.html)"
   ]
  },
  {
   "cell_type": "code",
   "execution_count": 17,
   "id": "353103d9-3c21-4cd1-9a0b-036c049fe850",
   "metadata": {},
   "outputs": [
    {
     "name": "stdout",
     "output_type": "stream",
     "text": [
      "2.220446049250313e-16\n",
      "2.220446049250313e-16\n"
     ]
    }
   ],
   "source": [
    "# Print out the value for eps\n",
    "eps = np.finfo(float).eps\n",
    "print(eps)\n",
    "print(2**(-52))"
   ]
  },
  {
   "cell_type": "code",
   "execution_count": 18,
   "id": "498ecd69-9f6d-4571-8c01-d3a1f5ab3dfd",
   "metadata": {},
   "outputs": [
    {
     "name": "stdout",
     "output_type": "stream",
     "text": [
      "0.00000000000000022204460492503131\n"
     ]
    }
   ],
   "source": [
    "# Show all decimals without mantissa (e-part)\n",
    "print(f\"{np.finfo(float).eps:.32f}\")"
   ]
  },
  {
   "cell_type": "markdown",
   "id": "659d9947-274b-47da-97be-f7b65b306287",
   "metadata": {},
   "source": [
    "Now, let's check if Is 1.0000000000000001 greater than 1.0"
   ]
  },
  {
   "cell_type": "code",
   "execution_count": 19,
   "id": "0dc14cd7-7aff-4b5d-9494-40c6d954955a",
   "metadata": {},
   "outputs": [
    {
     "name": "stdout",
     "output_type": "stream",
     "text": [
      "1.0\n",
      "False\n"
     ]
    }
   ],
   "source": [
    "# 1.0 plus a very small number\n",
    "x1 = 1.0 + 1.0e-16\n",
    "\n",
    "print(x1)\n",
    "print(x1 > 1.0)"
   ]
  },
  {
   "cell_type": "markdown",
   "id": "101a0012-31f9-4e40-a2d0-641a34ad5561",
   "metadata": {},
   "source": [
    "How about, is 1.0000000000000002 greater than 1.0?"
   ]
  },
  {
   "cell_type": "code",
   "execution_count": 20,
   "id": "601b8df8-3a91-41f4-91ad-6ccb266ed5f1",
   "metadata": {},
   "outputs": [
    {
     "name": "stdout",
     "output_type": "stream",
     "text": [
      "1.0000000000000002\n",
      "True\n"
     ]
    }
   ],
   "source": [
    "# 1.0 plus a little bigger number\n",
    "x2 = 1.0 + 2.0e-16\n",
    "\n",
    "print(x2)\n",
    "print(x2 > 1.0)"
   ]
  },
  {
   "cell_type": "markdown",
   "id": "c2d66489-051e-4925-88d0-62533cc0f196",
   "metadata": {},
   "source": [
    "Lastly we compare 1.0000000000000002 to 1.0000000000000001"
   ]
  },
  {
   "cell_type": "code",
   "execution_count": 21,
   "id": "13bdf7fa-505a-4354-837a-2665dea87fac",
   "metadata": {},
   "outputs": [
    {
     "name": "stdout",
     "output_type": "stream",
     "text": [
      "True\n"
     ]
    }
   ],
   "source": [
    "print(x2 > x1)"
   ]
  },
  {
   "cell_type": "markdown",
   "id": "c7482647-6327-4304-a7ac-8f12b28b4565",
   "metadata": {},
   "source": [
    "To conclude, the numerical accuracy of the floating point arithmetics is about 16 decimals (52 bits)."
   ]
  },
  {
   "cell_type": "markdown",
   "id": "4e95fc22-ca99-4f43-87c2-c2e054fdbb30",
   "metadata": {},
   "source": [
    "### What are the largest and smallest floating point numbers?\n",
    "\n",
    "Then, how big and small numbers we can present with floating point numbers. Let's change the mantissa (e-part) to find it out.\n",
    "\n",
    "Notice, that floating point presentation has a special code for infinity or not-a-number (nan)."
   ]
  },
  {
   "cell_type": "code",
   "execution_count": 22,
   "id": "4839e3e5-abd2-41ed-b812-e351f3f7f4c3",
   "metadata": {},
   "outputs": [
    {
     "data": {
      "text/plain": [
       "inf"
      ]
     },
     "execution_count": 22,
     "metadata": {},
     "output_type": "execute_result"
    }
   ],
   "source": [
    "# 10^400?\n",
    "1.0e400"
   ]
  },
  {
   "cell_type": "code",
   "execution_count": 23,
   "id": "d79fffcf-f157-46bf-871a-fcb79df7fffd",
   "metadata": {},
   "outputs": [
    {
     "data": {
      "text/plain": [
       "1e+308"
      ]
     },
     "execution_count": 23,
     "metadata": {},
     "output_type": "execute_result"
    }
   ],
   "source": [
    "# 10^308?\n",
    "1.0e308"
   ]
  },
  {
   "cell_type": "code",
   "execution_count": 24,
   "id": "8cd58dcf-c39d-4fc8-902b-c2ad8803af8f",
   "metadata": {},
   "outputs": [
    {
     "data": {
      "text/plain": [
       "1e-323"
      ]
     },
     "execution_count": 24,
     "metadata": {},
     "output_type": "execute_result"
    }
   ],
   "source": [
    "# 10^(-323)?\n",
    "1.0e-323"
   ]
  },
  {
   "cell_type": "code",
   "execution_count": 25,
   "id": "2c681f00-ac67-4400-8e59-af1809d0cec7",
   "metadata": {},
   "outputs": [
    {
     "data": {
      "text/plain": [
       "0.0"
      ]
     },
     "execution_count": 25,
     "metadata": {},
     "output_type": "execute_result"
    }
   ],
   "source": [
    "# 10^(-400)?\n",
    "1.0e-400"
   ]
  },
  {
   "cell_type": "markdown",
   "id": "a2e19670-3d65-45c6-81f4-ae7c6fff3302",
   "metadata": {},
   "source": [
    "### Not-a-number and infinity"
   ]
  },
  {
   "cell_type": "markdown",
   "id": "6c0e00d4-9849-47ae-9f54-ca292c6ddd0f",
   "metadata": {},
   "source": [
    "Not-a-number has a special symbol in floating point presentation"
   ]
  },
  {
   "cell_type": "code",
   "execution_count": 26,
   "id": "9073134f-2e34-4fbf-93ca-3e215a814d8c",
   "metadata": {},
   "outputs": [
    {
     "name": "stdout",
     "output_type": "stream",
     "text": [
      "nan\n"
     ]
    }
   ],
   "source": [
    "x = np.nan\n",
    "print(x)"
   ]
  },
  {
   "cell_type": "markdown",
   "id": "afa82887-c3a9-4621-aa5d-e9f8acb5ad85",
   "metadata": {},
   "source": [
    "We can make calculations with `nan` or `inf`, but the result remains the same"
   ]
  },
  {
   "cell_type": "code",
   "execution_count": 27,
   "id": "af9f2cee-209c-432f-8159-dfd1764e0ebe",
   "metadata": {},
   "outputs": [
    {
     "data": {
      "text/plain": [
       "(nan, nan, nan)"
      ]
     },
     "execution_count": 27,
     "metadata": {},
     "output_type": "execute_result"
    }
   ],
   "source": [
    "x + 3, 3*x, x/x"
   ]
  },
  {
   "cell_type": "code",
   "execution_count": 28,
   "id": "cd90f33c-6338-409a-b672-9612c6bcb48d",
   "metadata": {},
   "outputs": [
    {
     "data": {
      "text/plain": [
       "(inf, nan, -inf)"
      ]
     },
     "execution_count": 28,
     "metadata": {},
     "output_type": "execute_result"
    }
   ],
   "source": [
    "y = np.inf\n",
    "y + 3, y/x, -y"
   ]
  }
 ],
 "metadata": {
  "kernelspec": {
   "display_name": "math",
   "language": "python",
   "name": "python3"
  },
  "language_info": {
   "codemirror_mode": {
    "name": "ipython",
    "version": 3
   },
   "file_extension": ".py",
   "mimetype": "text/x-python",
   "name": "python",
   "nbconvert_exporter": "python",
   "pygments_lexer": "ipython3",
   "version": "3.11.10"
  }
 },
 "nbformat": 4,
 "nbformat_minor": 5
}
